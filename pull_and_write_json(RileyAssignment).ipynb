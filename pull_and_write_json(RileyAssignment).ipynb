{
  "cells": [
    {
      "cell_type": "code",
      "execution_count": 1,
      "metadata": {
        "id": "N1s60GxInDU2"
      },
      "outputs": [],
      "source": [
        "import pandas as pd\n",
        "import json"
      ]
    },
    {
      "cell_type": "code",
      "execution_count": 2,
      "metadata": {
        "id": "lAahs7Gua7-X"
      },
      "outputs": [],
      "source": [
        "# import urllib library\n",
        "from urllib.request import urlopen\n",
        "  \n",
        "# import json\n",
        "import json\n",
        "# store the URL in url as \n",
        "# parameter for urlopen\n",
        "url = \"https://eservices.mas.gov.sg/api/action/datastore/search.json?resource_id=95932927-c8bc-4e7a-b484-68a66a24edfe&limit=100&sort=end_of_day%20desc\"\n",
        "  \n",
        "# store the response of URL\n",
        "response = urlopen(url)\n",
        "  \n",
        "# storing the JSON response \n",
        "# from url in data\n",
        "data_json = json.loads(response.read())"
      ]
    },
    {
      "cell_type": "code",
      "execution_count": 3,
      "metadata": {
        "id": "LdJ-b0YImgue"
      },
      "outputs": [],
      "source": [
        "data = (data_json['result']['records'])"
      ]
    },
    {
      "cell_type": "code",
      "execution_count": 4,
      "metadata": {
        "colab": {
          "base_uri": "https://localhost:8080/",
          "height": 488
        },
        "id": "6BrNuG1qnLet",
        "outputId": "e7de92ec-c12c-4769-ad7d-6b7b2a18bdcd"
      },
      "outputs": [],
      "source": [
        "currency_df = pd.DataFrame.from_dict(data)"
      ]
    },
    {
      "cell_type": "code",
      "execution_count": 5,
      "metadata": {},
      "outputs": [
        {
          "data": {
            "text/plain": [
              "end_of_day     2023-05-26\n",
              "preliminary             0\n",
              "eur_sgd            1.4525\n",
              "gbp_sgd            1.6681\n",
              "usd_sgd            1.3528\n",
              "aud_sgd            0.8808\n",
              "cad_sgd            0.9919\n",
              "cny_sgd_100         19.16\n",
              "hkd_sgd_100         17.27\n",
              "inr_sgd_100        1.6356\n",
              "idr_sgd_100      0.009041\n",
              "jpy_sgd_100        0.9674\n",
              "krw_sgd_100        0.1020\n",
              "myr_sgd_100         29.19\n",
              "twd_sgd_100        4.4021\n",
              "nzd_sgd            0.8204\n",
              "php_sgd_100        2.4208\n",
              "qar_sgd_100         37.12\n",
              "sar_sgd_100         36.07\n",
              "chf_sgd            1.4953\n",
              "thb_sgd_100        3.9057\n",
              "aed_sgd_100         36.84\n",
              "vnd_sgd_100      0.005763\n",
              "timestamp      1685373323\n",
              "Name: 1, dtype: object"
            ]
          },
          "execution_count": 5,
          "metadata": {},
          "output_type": "execute_result"
        }
      ],
      "source": [
        "currency_df.iloc[1]"
      ]
    },
    {
      "cell_type": "code",
      "execution_count": 6,
      "metadata": {},
      "outputs": [],
      "source": [
        "result_by_day = {}"
      ]
    },
    {
      "cell_type": "code",
      "execution_count": 7,
      "metadata": {},
      "outputs": [],
      "source": [
        "for date_info in data:\n",
        "    date = date_info['end_of_day']\n",
        "    rate= []\n",
        "    atribute = list(date_info.keys())    \n",
        "    atribute.remove('preliminary')\n",
        "    atribute.remove('timestamp')\n",
        "    atribute.remove('end_of_day')\n",
        "    record = {}\n",
        "    for rate_name in atribute: \n",
        "            record[rate_name] = date_info[rate_name]\n",
        "    result_by_day[date] = record"
      ]
    },
    {
      "cell_type": "code",
      "execution_count": 8,
      "metadata": {},
      "outputs": [
        {
          "data": {
            "text/plain": [
              "{'eur_sgd': '1.4525',\n",
              " 'gbp_sgd': '1.6681',\n",
              " 'usd_sgd': '1.3528',\n",
              " 'aud_sgd': '0.8808',\n",
              " 'cad_sgd': '0.9919',\n",
              " 'cny_sgd_100': '19.16',\n",
              " 'hkd_sgd_100': '17.27',\n",
              " 'inr_sgd_100': '1.6356',\n",
              " 'idr_sgd_100': '0.009041',\n",
              " 'jpy_sgd_100': '0.9674',\n",
              " 'krw_sgd_100': '0.1020',\n",
              " 'myr_sgd_100': '29.19',\n",
              " 'twd_sgd_100': '4.4021',\n",
              " 'nzd_sgd': '0.8204',\n",
              " 'php_sgd_100': '2.4208',\n",
              " 'qar_sgd_100': '37.12',\n",
              " 'sar_sgd_100': '36.07',\n",
              " 'chf_sgd': '1.4953',\n",
              " 'thb_sgd_100': '3.9057',\n",
              " 'aed_sgd_100': '36.84',\n",
              " 'vnd_sgd_100': '0.005763'}"
            ]
          },
          "execution_count": 8,
          "metadata": {},
          "output_type": "execute_result"
        }
      ],
      "source": [
        "result_by_day['2023-05-26']"
      ]
    },
    {
      "cell_type": "code",
      "execution_count": 9,
      "metadata": {},
      "outputs": [],
      "source": [
        "with open(\"json/resultByDay.json\", \"w\") as outfile:\n",
        "    json.dump(result_by_day, outfile)"
      ]
    }
  ],
  "metadata": {
    "colab": {
      "provenance": []
    },
    "kernelspec": {
      "display_name": "Python 3",
      "name": "python3"
    },
    "language_info": {
      "codemirror_mode": {
        "name": "ipython",
        "version": 3
      },
      "file_extension": ".py",
      "mimetype": "text/x-python",
      "name": "python",
      "nbconvert_exporter": "python",
      "pygments_lexer": "ipython3",
      "version": "3.10.6"
    }
  },
  "nbformat": 4,
  "nbformat_minor": 0
}
